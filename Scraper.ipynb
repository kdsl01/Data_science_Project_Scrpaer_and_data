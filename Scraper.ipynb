{
 "cells": [
  {
   "cell_type": "code",
   "execution_count": 140,
   "outputs": [
    {
     "data": {
      "text/plain": "57"
     },
     "execution_count": 140,
     "metadata": {},
     "output_type": "execute_result"
    }
   ],
   "source": [
    "import requests\n",
    "import csv\n",
    "import re\n",
    "import random\n",
    "csv_file = open('data.csv', 'w', encoding=\"utf-8\", newline='')\n",
    "writer = csv.writer(csv_file)\n",
    "writer.writerow([\"Name\",\"Director\",\"Total Vote\",\"Year\",\"IMDB score\",\"MC Score\",\"Genre\"])"
   ],
   "metadata": {
    "collapsed": false,
    "pycharm": {
     "name": "#%%\n"
    }
   }
  },
  {
   "cell_type": "code",
   "execution_count": 141,
   "outputs": [],
   "source": [
    "url = \"https://www.imdb.com/search/title/?title_type=feature&sort=num_votes,desc\"\n",
    "fake_headers = {\n",
    "    'User-Agent': 'Mozilla/5.0 (Windows NT 10.0; WOW64) AppleWebKit/537.36 (KHTML, like Gecko) Chrome/79.0.3945.79 Safari/537.36'\n",
    "}\n",
    "response = requests.get(url, headers=fake_headers)"
   ],
   "metadata": {
    "collapsed": false,
    "pycharm": {
     "name": "#%%\n"
    }
   }
  },
  {
   "cell_type": "code",
   "execution_count": 142,
   "outputs": [],
   "source": [
    "from bs4 import BeautifulSoup\n",
    "soup = BeautifulSoup(response.content.decode('utf-8'), 'lxml')"
   ],
   "metadata": {
    "collapsed": false,
    "pycharm": {
     "name": "#%%\n"
    }
   }
  },
  {
   "cell_type": "code",
   "execution_count": 143,
   "outputs": [],
   "source": [
    "All_material= soup.find_all('div', class_ = 'lister-item mode-advanced')"
   ],
   "metadata": {
    "collapsed": false,
    "pycharm": {
     "name": "#%%\n"
    }
   }
  },
  {
   "cell_type": "code",
   "execution_count": 144,
   "outputs": [
    {
     "name": "stdout",
     "output_type": "stream",
     "text": [
      "1994\n",
      "2008\n",
      "2010\n",
      "1999\n",
      "1994\n",
      "1994\n",
      "1999\n",
      "2001\n",
      "2003\n",
      "1972\n",
      "2012\n",
      "2014\n",
      "2002\n",
      "1995\n",
      "2012\n",
      "2000\n",
      "2005\n",
      "1991\n",
      "2009\n",
      "2012\n",
      "1998\n",
      "1977\n",
      "1993\n",
      "2006\n",
      "2006\n",
      "2013\n",
      "1980\n",
      "1999\n",
      "1974\n",
      "2010\n",
      "2000\n",
      "2009\n",
      "1999\n",
      "1985\n",
      "1997\n",
      "2014\n",
      "1998\n",
      "1994\n",
      "2005\n",
      "2003\n",
      "1990\n",
      "2003\n",
      "2008\n",
      "1991\n",
      "1995\n",
      "1995\n",
      "1983\n",
      "2003\n",
      "1994\n",
      "2008\n"
     ]
    }
   ],
   "source": [
    "for each_material in All_material:\n",
    "\n",
    "    name = each_material.h3.a.text\n",
    "    director = director=each_material.find('p',class_='').find_all('a')[0].text\n",
    "    year = each_material.h3.find('span', class_ = 'lister-item-year').text\n",
    "    temp = re.findall(r'\\d+', year)\n",
    "    res = list(map(int, temp))\n",
    "    print(res[0])\n",
    "    genre =each_material.p.find('span',class_='genre').text\n",
    "    vote = each_material.find('span', attrs = {'name':'nv'})['data-value']\n",
    "    genrex = genre.split(\", \")\n",
    "    genrex[0]= genrex[0].replace('\\n','')\n",
    "    meta = float(each_material.find('span', class_ = 'metascore').text)\n",
    "    IMDB = float(each_material.strong.text)\n",
    "    x=[name,director,vote,res[0],IMDB,meta]\n",
    "    for g in genrex:\n",
    "        x.append(g)\n",
    "    writer.writerow(x)\n"
   ],
   "metadata": {
    "collapsed": false,
    "pycharm": {
     "name": "#%%\n"
    }
   }
  },
  {
   "cell_type": "code",
   "execution_count": 145,
   "outputs": [],
   "source": [
    "pages = [str(i*50+1) for i in range(1,20)]"
   ],
   "metadata": {
    "collapsed": false,
    "pycharm": {
     "name": "#%%\n"
    }
   }
  },
  {
   "cell_type": "code",
   "execution_count": 146,
   "outputs": [],
   "source": [
    "for i in pages:\n",
    "    url = \"https://www.imdb.com/search/title/?title_type=feature&sort=num_votes,desc&start=\"+i+\"&ref_=adv_nxt\"\n",
    "    fake_headers = {\n",
    "        'User-Agent': 'Mozilla/5.0 (Windows NT 10.0; WOW64) AppleWebKit/537.36 (KHTML, like Gecko) Chrome/79.0.3945.79 Safari/537.36'\n",
    "    }\n",
    "    response = requests.get(url, headers=fake_headers)\n",
    "    count = 0\n",
    "    max = random.randint(1,10)\n",
    "    while count<max*10000:\n",
    "        count+=1\n",
    "    from bs4 import BeautifulSoup\n",
    "    soup = BeautifulSoup(response.content.decode('utf-8'), 'lxml')\n",
    "    All_material= soup.find_all('div', class_ = 'lister-item mode-advanced')\n",
    "    for each_material in All_material:\n",
    "        name = each_material.h3.a.text\n",
    "        director = director=each_material.find('p',class_='').find_all('a')[0].text\n",
    "        year = each_material.h3.find('span', class_ = 'lister-item-year').text\n",
    "        temp = re.findall(r'\\d+', year)\n",
    "        res = list(map(int, temp))\n",
    "        genre =each_material.p.find('span',class_='genre').text\n",
    "        vote = each_material.find('span', attrs = {'name':'nv'})['data-value']\n",
    "        genrex = genre.split(\", \")\n",
    "        genrex[0]= genrex[0].replace('\\n','')\n",
    "        if each_material.find('div', class_ = 'ratings-metascore') is not None:\n",
    "            meta = float(each_material.find('span', class_ = 'metascore').text)\n",
    "        else:\n",
    "            meta = \"n/a\"\n",
    "        IMDB = float(each_material.strong.text)\n",
    "        x=[name,director,vote,res[0],IMDB,meta]\n",
    "        for g in genrex:\n",
    "            x.append(g)\n",
    "        writer.writerow(x)\n",
    "\n",
    "\n"
   ],
   "metadata": {
    "collapsed": false,
    "pycharm": {
     "name": "#%%\n"
    }
   }
  },
  {
   "cell_type": "code",
   "execution_count": 147,
   "outputs": [],
   "source": [
    "csv_file.close()"
   ],
   "metadata": {
    "collapsed": false,
    "pycharm": {
     "name": "#%%\n"
    }
   }
  }
 ],
 "metadata": {
  "kernelspec": {
   "name": "pycharm-e51e16df",
   "language": "python",
   "display_name": "PyCharm (pythonProject)"
  },
  "language_info": {
   "codemirror_mode": {
    "name": "ipython",
    "version": 2
   },
   "file_extension": ".py",
   "mimetype": "text/x-python",
   "name": "python",
   "nbconvert_exporter": "python",
   "pygments_lexer": "ipython2",
   "version": "2.7.6"
  }
 },
 "nbformat": 4,
 "nbformat_minor": 0
}