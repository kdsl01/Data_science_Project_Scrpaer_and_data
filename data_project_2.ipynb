{
 "cells": [
  {
   "cell_type": "code",
   "execution_count": 2,
   "metadata": {},
   "outputs": [],
   "source": [
    "import pandas as pd\n",
    "import numpy as np\n",
    "import seaborn as sns\n",
    "import matplotlib.pyplot as plt\n",
    "\n",
    "from sklearn import datasets\n",
    "from sklearn.model_selection import train_test_split  \n",
    "from sklearn import metrics\n",
    "\n",
    "from sklearn.linear_model import LinearRegression"
   ]
  },
  {
   "cell_type": "code",
   "execution_count": 3,
   "metadata": {},
   "outputs": [
    {
     "data": {
      "text/html": [
       "<div>\n",
       "<style scoped>\n",
       "    .dataframe tbody tr th:only-of-type {\n",
       "        vertical-align: middle;\n",
       "    }\n",
       "\n",
       "    .dataframe tbody tr th {\n",
       "        vertical-align: top;\n",
       "    }\n",
       "\n",
       "    .dataframe thead th {\n",
       "        text-align: right;\n",
       "    }\n",
       "</style>\n",
       "<table border=\"1\" class=\"dataframe\">\n",
       "  <thead>\n",
       "    <tr style=\"text-align: right;\">\n",
       "      <th></th>\n",
       "      <th>Name</th>\n",
       "      <th>Director</th>\n",
       "      <th>Total Vote</th>\n",
       "      <th>Year</th>\n",
       "      <th>IMDB score</th>\n",
       "      <th>MC Score</th>\n",
       "      <th>Genre</th>\n",
       "      <th>Column1</th>\n",
       "      <th>_1</th>\n",
       "    </tr>\n",
       "  </thead>\n",
       "  <tbody>\n",
       "    <tr>\n",
       "      <th>0</th>\n",
       "      <td>The Shawshank Redemption</td>\n",
       "      <td>Frank Darabont</td>\n",
       "      <td>2318407</td>\n",
       "      <td>1994</td>\n",
       "      <td>9.3</td>\n",
       "      <td>80.0</td>\n",
       "      <td>Drama</td>\n",
       "      <td>NaN</td>\n",
       "      <td>NaN</td>\n",
       "    </tr>\n",
       "    <tr>\n",
       "      <th>1</th>\n",
       "      <td>The Dark Knight</td>\n",
       "      <td>Christopher Nolan</td>\n",
       "      <td>2280614</td>\n",
       "      <td>2008</td>\n",
       "      <td>9.0</td>\n",
       "      <td>84.0</td>\n",
       "      <td>Action</td>\n",
       "      <td>Crime</td>\n",
       "      <td>Drama</td>\n",
       "    </tr>\n",
       "    <tr>\n",
       "      <th>2</th>\n",
       "      <td>Inception</td>\n",
       "      <td>Christopher Nolan</td>\n",
       "      <td>2043823</td>\n",
       "      <td>2010</td>\n",
       "      <td>8.8</td>\n",
       "      <td>74.0</td>\n",
       "      <td>Action</td>\n",
       "      <td>Adventure</td>\n",
       "      <td>Sci-Fi</td>\n",
       "    </tr>\n",
       "    <tr>\n",
       "      <th>3</th>\n",
       "      <td>Fight Club</td>\n",
       "      <td>David Fincher</td>\n",
       "      <td>1836556</td>\n",
       "      <td>1999</td>\n",
       "      <td>8.8</td>\n",
       "      <td>66.0</td>\n",
       "      <td>Drama</td>\n",
       "      <td>NaN</td>\n",
       "      <td>NaN</td>\n",
       "    </tr>\n",
       "    <tr>\n",
       "      <th>4</th>\n",
       "      <td>Pulp Fiction</td>\n",
       "      <td>Quentin Tarantino</td>\n",
       "      <td>1808737</td>\n",
       "      <td>1994</td>\n",
       "      <td>8.9</td>\n",
       "      <td>94.0</td>\n",
       "      <td>Crime</td>\n",
       "      <td>Drama</td>\n",
       "      <td>NaN</td>\n",
       "    </tr>\n",
       "    <tr>\n",
       "      <th>...</th>\n",
       "      <td>...</td>\n",
       "      <td>...</td>\n",
       "      <td>...</td>\n",
       "      <td>...</td>\n",
       "      <td>...</td>\n",
       "      <td>...</td>\n",
       "      <td>...</td>\n",
       "      <td>...</td>\n",
       "      <td>...</td>\n",
       "    </tr>\n",
       "    <tr>\n",
       "      <th>65</th>\n",
       "      <td>Gone Girl</td>\n",
       "      <td>David Fincher</td>\n",
       "      <td>849896</td>\n",
       "      <td>2014</td>\n",
       "      <td>8.1</td>\n",
       "      <td>79.0</td>\n",
       "      <td>Drama</td>\n",
       "      <td>Mystery</td>\n",
       "      <td>Thriller</td>\n",
       "    </tr>\n",
       "    <tr>\n",
       "      <th>66</th>\n",
       "      <td>No Country for Old Men</td>\n",
       "      <td>Ethan Coen</td>\n",
       "      <td>847206</td>\n",
       "      <td>2007</td>\n",
       "      <td>8.1</td>\n",
       "      <td>91.0</td>\n",
       "      <td>Crime</td>\n",
       "      <td>Drama</td>\n",
       "      <td>Thriller</td>\n",
       "    </tr>\n",
       "    <tr>\n",
       "      <th>67</th>\n",
       "      <td>A Beautiful Mind</td>\n",
       "      <td>Ron Howard</td>\n",
       "      <td>840842</td>\n",
       "      <td>2001</td>\n",
       "      <td>8.2</td>\n",
       "      <td>72.0</td>\n",
       "      <td>Biography</td>\n",
       "      <td>Drama</td>\n",
       "      <td>NaN</td>\n",
       "    </tr>\n",
       "    <tr>\n",
       "      <th>68</th>\n",
       "      <td>The Hunger Games</td>\n",
       "      <td>Gary Ross</td>\n",
       "      <td>839757</td>\n",
       "      <td>2012</td>\n",
       "      <td>7.2</td>\n",
       "      <td>68.0</td>\n",
       "      <td>Action</td>\n",
       "      <td>Adventure</td>\n",
       "      <td>Sci-Fi</td>\n",
       "    </tr>\n",
       "    <tr>\n",
       "      <th>69</th>\n",
       "      <td>Avengers: Infinity War</td>\n",
       "      <td>Anthony Russo</td>\n",
       "      <td>819196</td>\n",
       "      <td>2018</td>\n",
       "      <td>8.4</td>\n",
       "      <td>68.0</td>\n",
       "      <td>Action</td>\n",
       "      <td>Adventure</td>\n",
       "      <td>Sci-Fi</td>\n",
       "    </tr>\n",
       "  </tbody>\n",
       "</table>\n",
       "<p>70 rows × 9 columns</p>\n",
       "</div>"
      ],
      "text/plain": [
       "                        Name           Director  Total Vote  Year  IMDB score  \\\n",
       "0   The Shawshank Redemption     Frank Darabont     2318407  1994         9.3   \n",
       "1            The Dark Knight  Christopher Nolan     2280614  2008         9.0   \n",
       "2                  Inception  Christopher Nolan     2043823  2010         8.8   \n",
       "3                 Fight Club      David Fincher     1836556  1999         8.8   \n",
       "4               Pulp Fiction  Quentin Tarantino     1808737  1994         8.9   \n",
       "..                       ...                ...         ...   ...         ...   \n",
       "65                 Gone Girl      David Fincher      849896  2014         8.1   \n",
       "66    No Country for Old Men         Ethan Coen      847206  2007         8.1   \n",
       "67          A Beautiful Mind         Ron Howard      840842  2001         8.2   \n",
       "68          The Hunger Games          Gary Ross      839757  2012         7.2   \n",
       "69    Avengers: Infinity War      Anthony Russo      819196  2018         8.4   \n",
       "\n",
       "    MC Score              Genre            Column1                    _1  \n",
       "0       80.0  Drama                            NaN                   NaN  \n",
       "1       84.0             Action              Crime     Drama              \n",
       "2       74.0             Action          Adventure    Sci-Fi              \n",
       "3       66.0  Drama                            NaN                   NaN  \n",
       "4       94.0              Crime  Drama                               NaN  \n",
       "..       ...                ...                ...                   ...  \n",
       "65      79.0              Drama            Mystery  Thriller              \n",
       "66      91.0              Crime              Drama  Thriller              \n",
       "67      72.0          Biography  Drama                               NaN  \n",
       "68      68.0             Action          Adventure    Sci-Fi              \n",
       "69      68.0             Action          Adventure    Sci-Fi              \n",
       "\n",
       "[70 rows x 9 columns]"
      ]
     },
     "execution_count": 3,
     "metadata": {},
     "output_type": "execute_result"
    }
   ],
   "source": [
    "train = pd.read_excel('new_data.xlsx', error_bad_lines=False)\n",
    "train.head(70)"
   ]
  },
  {
   "cell_type": "code",
   "execution_count": 4,
   "metadata": {},
   "outputs": [
    {
     "data": {
      "text/plain": [
       "10"
      ]
     },
     "execution_count": 4,
     "metadata": {},
     "output_type": "execute_result"
    }
   ],
   "source": [
    "train.Director.str.count(\"Nolan\").sum()"
   ]
  },
  {
   "cell_type": "code",
   "execution_count": 5,
   "metadata": {},
   "outputs": [
    {
     "name": "stdout",
     "output_type": "stream",
     "text": [
      "Steven Spielberg      21\n",
      "Tim Burton            13\n",
      "Ridley Scott          12\n",
      "Michael Bay           11\n",
      "Martin Scorsese       11\n",
      "                      ..\n",
      "David Gordon Green     1\n",
      "Brad Anderson          1\n",
      "Adam Shankman          1\n",
      "Tim Miller             1\n",
      "Frank Capra            1\n",
      "Name: Director, Length: 445, dtype: int64\n"
     ]
    }
   ],
   "source": [
    "dircount = train.Director.value_counts()\n",
    "print(dircount)"
   ]
  },
  {
   "cell_type": "code",
   "execution_count": 22,
   "metadata": {},
   "outputs": [
    {
     "data": {
      "text/plain": [
       "array([<matplotlib.axes._subplots.AxesSubplot object at 0x0000023C25EA6B20>],\n",
       "      dtype=object)"
      ]
     },
     "execution_count": 22,
     "metadata": {},
     "output_type": "execute_result"
    },
    {
     "data": {
      "image/png": "[encoded data removed]",
      "text/plain": [
       "<Figure size 1800x1440 with 1 Axes>"
      ]
     },
     "metadata": {
      "needs_background": "light"
     },
     "output_type": "display_data"
    }
   ],
   "source": [
    "dircount.head(20).plot(kind='barh', subplots=True, figsize=(25,20))"
   ]
  },
  {
   "cell_type": "code",
   "execution_count": 6,
   "metadata": {},
   "outputs": [
    {
     "name": "stdout",
     "output_type": "stream",
     "text": [
      "Action                 385\n",
      "Drama                  121\n",
      "Comedy                 116\n",
      "Adventure               73\n",
      "Animation               70\n",
      "Crime                   69\n",
      "Biography               51\n",
      "Comedy                  35\n",
      "Drama                   27\n",
      "Horror                  27\n",
      "Mystery                  8\n",
      "Horror                   6\n",
      "Western                  3\n",
      "Fantasy                  3\n",
      "Family                   2\n",
      "Sci-Fi                   2\n",
      "Musical                  1\n",
      "Romance                  1\n",
      "Name: Genre, dtype: int64\n"
     ]
    }
   ],
   "source": [
    "genrecount = train.Genre.value_counts()\n",
    "print(genrecount)"
   ]
  },
  {
   "cell_type": "code",
   "execution_count": 16,
   "metadata": {},
   "outputs": [
    {
     "data": {
      "text/plain": [
       "array([<matplotlib.axes._subplots.AxesSubplot object at 0x0000023C1D643880>],\n",
       "      dtype=object)"
      ]
     },
     "execution_count": 16,
     "metadata": {},
     "output_type": "execute_result"
    },
    {
     "data": {
      "image/png": "[encoded data removed]",
      "text/plain": [
       "<Figure size 1080x720 with 1 Axes>"
      ]
     },
     "metadata": {
      "needs_background": "light"
     },
     "output_type": "display_data"
    }
   ],
   "source": [
    "train.Genre.value_counts().plot(kind='barh', subplots=True, figsize=(15,10))"
   ]
  },
  {
   "cell_type": "code",
   "execution_count": 8,
   "metadata": {},
   "outputs": [
    {
     "name": "stdout",
     "output_type": "stream",
     "text": [
      "2011    55\n",
      "2013    54\n",
      "2012    50\n",
      "2008    48\n",
      "2014    46\n",
      "        ..\n",
      "1967     1\n",
      "1969     1\n",
      "1971     1\n",
      "1972     1\n",
      "1936     1\n",
      "Name: Year, Length: 71, dtype: int64\n"
     ]
    }
   ],
   "source": [
    "yearcount = train.Year.value_counts()\n",
    "print(yearcount)"
   ]
  },
  {
   "cell_type": "code",
   "execution_count": 9,
   "metadata": {},
   "outputs": [
    {
     "name": "stdout",
     "output_type": "stream",
     "text": [
      "1000\n"
     ]
    }
   ],
   "source": [
    "print(len(train))"
   ]
  },
  {
   "cell_type": "code",
   "execution_count": 10,
   "metadata": {},
   "outputs": [
    {
     "data": {
      "text/plain": [
       "278"
      ]
     },
     "execution_count": 10,
     "metadata": {},
     "output_type": "execute_result"
    }
   ],
   "source": [
    "train.isnull().sum().max()"
   ]
  },
  {
   "cell_type": "code",
   "execution_count": 11,
   "metadata": {},
   "outputs": [
    {
     "data": {
      "text/html": [
       "<div>\n",
       "<style scoped>\n",
       "    .dataframe tbody tr th:only-of-type {\n",
       "        vertical-align: middle;\n",
       "    }\n",
       "\n",
       "    .dataframe tbody tr th {\n",
       "        vertical-align: top;\n",
       "    }\n",
       "\n",
       "    .dataframe thead th {\n",
       "        text-align: right;\n",
       "    }\n",
       "</style>\n",
       "<table border=\"1\" class=\"dataframe\">\n",
       "  <thead>\n",
       "    <tr style=\"text-align: right;\">\n",
       "      <th></th>\n",
       "      <th>Total Vote</th>\n",
       "      <th>Year</th>\n",
       "      <th>IMDB score</th>\n",
       "      <th>MC Score</th>\n",
       "    </tr>\n",
       "  </thead>\n",
       "  <tbody>\n",
       "    <tr>\n",
       "      <th>count</th>\n",
       "      <td>1.000000e+03</td>\n",
       "      <td>1000.000000</td>\n",
       "      <td>1000.000000</td>\n",
       "      <td>992.000000</td>\n",
       "    </tr>\n",
       "    <tr>\n",
       "      <th>mean</th>\n",
       "      <td>4.016538e+05</td>\n",
       "      <td>2004.020000</td>\n",
       "      <td>7.342600</td>\n",
       "      <td>66.532258</td>\n",
       "    </tr>\n",
       "    <tr>\n",
       "      <th>std</th>\n",
       "      <td>2.704351e+05</td>\n",
       "      <td>12.865346</td>\n",
       "      <td>0.743181</td>\n",
       "      <td>15.799608</td>\n",
       "    </tr>\n",
       "    <tr>\n",
       "      <th>min</th>\n",
       "      <td>1.858160e+05</td>\n",
       "      <td>1936.000000</td>\n",
       "      <td>3.800000</td>\n",
       "      <td>23.000000</td>\n",
       "    </tr>\n",
       "    <tr>\n",
       "      <th>25%</th>\n",
       "      <td>2.293805e+05</td>\n",
       "      <td>2000.000000</td>\n",
       "      <td>6.900000</td>\n",
       "      <td>55.000000</td>\n",
       "    </tr>\n",
       "    <tr>\n",
       "      <th>50%</th>\n",
       "      <td>3.070995e+05</td>\n",
       "      <td>2007.000000</td>\n",
       "      <td>7.400000</td>\n",
       "      <td>67.000000</td>\n",
       "    </tr>\n",
       "    <tr>\n",
       "      <th>75%</th>\n",
       "      <td>4.676580e+05</td>\n",
       "      <td>2013.000000</td>\n",
       "      <td>7.900000</td>\n",
       "      <td>79.000000</td>\n",
       "    </tr>\n",
       "    <tr>\n",
       "      <th>max</th>\n",
       "      <td>2.318407e+06</td>\n",
       "      <td>2020.000000</td>\n",
       "      <td>9.300000</td>\n",
       "      <td>100.000000</td>\n",
       "    </tr>\n",
       "  </tbody>\n",
       "</table>\n",
       "</div>"
      ],
      "text/plain": [
       "         Total Vote         Year   IMDB score    MC Score\n",
       "count  1.000000e+03  1000.000000  1000.000000  992.000000\n",
       "mean   4.016538e+05  2004.020000     7.342600   66.532258\n",
       "std    2.704351e+05    12.865346     0.743181   15.799608\n",
       "min    1.858160e+05  1936.000000     3.800000   23.000000\n",
       "25%    2.293805e+05  2000.000000     6.900000   55.000000\n",
       "50%    3.070995e+05  2007.000000     7.400000   67.000000\n",
       "75%    4.676580e+05  2013.000000     7.900000   79.000000\n",
       "max    2.318407e+06  2020.000000     9.300000  100.000000"
      ]
     },
     "execution_count": 11,
     "metadata": {},
     "output_type": "execute_result"
    }
   ],
   "source": [
    "train.describe()"
   ]
  },
  {
   "cell_type": "code",
   "execution_count": 12,
   "metadata": {},
   "outputs": [
    {
     "data": {
      "image/png": "[encoded data removed]",
      "text/plain": [
       "<Figure size 1080x720 with 4 Axes>"
      ]
     },
     "metadata": {
      "needs_background": "light"
     },
     "output_type": "display_data"
    }
   ],
   "source": [
    "train.hist(bins=10,figsize=(15,10),grid= False);"
   ]
  },
  {
   "cell_type": "code",
   "execution_count": 8,
   "metadata": {},
   "outputs": [
    {
     "data": {
      "image/png": "[encoded data removed]",
      "text/plain": [
       "<Figure size 1080x720 with 2 Axes>"
      ]
     },
     "metadata": {
      "needs_background": "light"
     },
     "output_type": "display_data"
    }
   ],
   "source": [
    "corr = train.corr();\n",
    "plt.figure(figsize=(15,10));\n",
    "ax = sns.heatmap(corr, annot=True);"
   ]
  },
  {
   "cell_type": "code",
   "execution_count": null,
   "metadata": {},
   "outputs": [],
   "source": []
  }
 ],
 "metadata": {
  "kernelspec": {
   "display_name": "Python 3",
   "language": "python",
   "name": "python3"
  },
  "language_info": {
   "codemirror_mode": {
    "name": "ipython",
    "version": 3
   },
   "file_extension": ".py",
   "mimetype": "text/x-python",
   "name": "python",
   "nbconvert_exporter": "python",
   "pygments_lexer": "ipython3",
   "version": "3.8.3"
  }
 },
 "nbformat": 4,
 "nbformat_minor": 4
}
